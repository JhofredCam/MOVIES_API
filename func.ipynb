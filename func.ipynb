{
 "cells": [
  {
   "cell_type": "code",
   "execution_count": 1,
   "metadata": {},
   "outputs": [],
   "source": [
    "import pandas as pd\n",
    "movies = pd.read_csv(\"movies.csv\")"
   ]
  },
  {
   "cell_type": "code",
   "execution_count": 6,
   "metadata": {},
   "outputs": [],
   "source": [
    "def cantidad_filmaciones_mes(month:str) -> dict:\n",
    "    \"\"\"\n",
    "    Devuelve la cantidad de películas estrenadas en un mes específico.\n",
    "\n",
    "    Parámetros:\n",
    "    - month (str): El mes para el cual se desea obtener la cantidad de películas estrenadas.\n",
    "\n",
    "    Retorna:\n",
    "    Un diccionario que indica la cantidad de películas estrenadas en el mes especificado.\n",
    "\n",
    "    \"\"\"\n",
    "    \n",
    "    month = month.capitalize()\n",
    "\n",
    "    months = {\n",
    "    'Enero': 1,\n",
    "    'Febrero': 2,\n",
    "    'Marzo': 3,\n",
    "    'Abril': 4,\n",
    "    'Mayo': 5,\n",
    "    'Junio': 6,\n",
    "    'Julio': 7,\n",
    "    'Agosto': 8,\n",
    "    'Septiembre': 9,\n",
    "    'Octubre': 10,\n",
    "    'Noviembre': 11,\n",
    "    'Diciembre': 12\n",
    "    }\n",
    "    \n",
    "    # Obtener el recuento de películas estrenadas en el mes proporcionado\n",
    "    num_movies = movies['release_month'].value_counts().loc[months[month]]\n",
    "\n",
    "    return {'mes':month,'cantidad':int(num_movies)}"
   ]
  },
  {
   "cell_type": "code",
   "execution_count": 7,
   "metadata": {},
   "outputs": [
    {
     "data": {
      "text/plain": [
       "{'mes': 'Abril', 'cantidad': 3456}"
      ]
     },
     "execution_count": 7,
     "metadata": {},
     "output_type": "execute_result"
    }
   ],
   "source": [
    "cantidad_filmaciones_mes('abril')"
   ]
  },
  {
   "cell_type": "code",
   "execution_count": 8,
   "metadata": {},
   "outputs": [],
   "source": [
    "def score_titulo(title: str) -> dict:\n",
    "    \"\"\"\n",
    "    Devuelve la información del título, año de estreno y puntaje de una película específica.\n",
    "\n",
    "    Parámetros:\n",
    "    - title (str): El título de la película para la cual se desea obtener la información.\n",
    "\n",
    "    Retorna:\n",
    "    Un diccionario que muestra el título de la película, su año de estreno y su puntaje/popularidad.\n",
    "\n",
    "    \"\"\"\n",
    "\n",
    "    title = title.title()\n",
    "\n",
    "    # Obtener la película con el título proporcionado\n",
    "    movie = movies[movies['title'] == title].iloc[0, :]\n",
    "\n",
    "    # Seleccionar las columnas relevantes: título, año de estreno y puntaje\n",
    "    movie = movie[['title', 'release_year', 'popularity','vote_average']]\n",
    "\n",
    "    return {'titulo':movie['title'], 'anio':movie['release_year'], 'popularidad':movie['popularity']}"
   ]
  },
  {
   "cell_type": "code",
   "execution_count": 9,
   "metadata": {},
   "outputs": [
    {
     "data": {
      "text/plain": [
       "{'titulo': 'Toy Story', 'anio': 1995, 'popularidad': 21.946943}"
      ]
     },
     "execution_count": 9,
     "metadata": {},
     "output_type": "execute_result"
    }
   ],
   "source": [
    "score_titulo('Toy Story')"
   ]
  },
  {
   "cell_type": "code",
   "execution_count": 26,
   "metadata": {},
   "outputs": [],
   "source": [
    "def get_director(director: str) -> list:\n",
    "    \"\"\"\n",
    "    Devuelve una lista de diccionarios que contiene información sobre las películas dirigidas por un director específico.\n",
    "\n",
    "    Parámetros:\n",
    "    - director (str): El nombre del director para el cual se desea obtener la información.\n",
    "\n",
    "    Retorna:\n",
    "    Una lista de diccionarios que contiene información sobre las películas dirigidas por el director.\n",
    "    Cada diccionario representa una película y contiene los siguientes campos:\n",
    "    - 'title': El título de la película.\n",
    "    - 'release_year': El año de estreno de la película.\n",
    "    - 'budget': El presupuesto de la película.\n",
    "    - 'revenue': Los ingresos generados por la película.\n",
    "    - 'return': El retorno financiero de la película.\n",
    "\n",
    "    \"\"\"\n",
    "\n",
    "    director = director.title()\n",
    "\n",
    "    director_return = movies[movies['director'] == director].loc[:, ['director', 'title', 'release_year', 'budget', 'revenue', 'return']]\n",
    "    director_return['return'] = director_return['return'].apply(lambda x: round(x,ndigits=2))\n",
    "    return {'director':director,\n",
    "            'retorno_total_director':round(director_return['return'].sum(),2),\n",
    "            'peliculas':director_return['title'].to_list(),\n",
    "            'anio':director_return['release_year'].to_list(),\n",
    "            'retorno_pelicula':director_return['return'].to_list(),\n",
    "            'budget_pelicula':director_return['budget'].to_list(),\n",
    "            'revenue_pelicula':director_return['revenue']}\n"
   ]
  },
  {
   "cell_type": "code",
   "execution_count": 27,
   "metadata": {},
   "outputs": [
    {
     "data": {
      "text/plain": [
       "{'director': 'John Lasseter',\n",
       " 'retorno_total_director': 27.66,\n",
       " 'peliculas': ['Toy Story',\n",
       "  \"A Bug's Life\",\n",
       "  'Toy Story 2',\n",
       "  'Luxo Jr.',\n",
       "  'Cars',\n",
       "  'Cars 2',\n",
       "  'Tin Toy',\n",
       "  \"Red's Dream\",\n",
       "  'Knick Knack',\n",
       "  'Mater and the Ghostlight'],\n",
       " 'anio': [1995, 1998, 1999, 1986, 2006, 2011, 1988, 1987, 1989, 2006],\n",
       " 'retorno_pelicula': [12.45, 3.03, 5.53, 0.0, 3.85, 2.8, 0.0, 0.0, 0.0, 0.0],\n",
       " 'budget_pelicula': 0         30000000\n",
       " 2244     120000000\n",
       " 3000      90000000\n",
       " 10671            0\n",
       " 10991    120000000\n",
       " 17387    200000000\n",
       " 19133            0\n",
       " 19187            0\n",
       " 19237            0\n",
       " 22870            0\n",
       " Name: budget, dtype: int64,\n",
       " 'revenue_pelicula': 0        373554033.0\n",
       " 2244     363258859.0\n",
       " 3000     497366869.0\n",
       " 10671            0.0\n",
       " 10991    461983149.0\n",
       " 17387    559852396.0\n",
       " 19133            0.0\n",
       " 19187            0.0\n",
       " 19237            0.0\n",
       " 22870            0.0\n",
       " Name: revenue, dtype: float64}"
      ]
     },
     "execution_count": 27,
     "metadata": {},
     "output_type": "execute_result"
    }
   ],
   "source": [
    "get_director('John Lasseter')"
   ]
  },
  {
   "cell_type": "code",
   "execution_count": null,
   "metadata": {},
   "outputs": [],
   "source": []
  }
 ],
 "metadata": {
  "kernelspec": {
   "display_name": "pi_mlops",
   "language": "python",
   "name": "python3"
  },
  "language_info": {
   "codemirror_mode": {
    "name": "ipython",
    "version": 3
   },
   "file_extension": ".py",
   "mimetype": "text/x-python",
   "name": "python",
   "nbconvert_exporter": "python",
   "pygments_lexer": "ipython3",
   "version": "3.11.3"
  },
  "orig_nbformat": 4
 },
 "nbformat": 4,
 "nbformat_minor": 2
}
