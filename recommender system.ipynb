{
 "cells": [
  {
   "cell_type": "code",
   "execution_count": 1,
   "metadata": {},
   "outputs": [],
   "source": [
    "import pandas as pd"
   ]
  },
  {
   "cell_type": "code",
   "execution_count": 2,
   "metadata": {},
   "outputs": [],
   "source": [
    "movies_df = pd.read_csv(\"movies.csv\")"
   ]
  },
  {
   "cell_type": "code",
   "execution_count": 3,
   "metadata": {},
   "outputs": [
    {
     "data": {
      "text/html": [
       "<div>\n",
       "<style scoped>\n",
       "    .dataframe tbody tr th:only-of-type {\n",
       "        vertical-align: middle;\n",
       "    }\n",
       "\n",
       "    .dataframe tbody tr th {\n",
       "        vertical-align: top;\n",
       "    }\n",
       "\n",
       "    .dataframe thead th {\n",
       "        text-align: right;\n",
       "    }\n",
       "</style>\n",
       "<table border=\"1\" class=\"dataframe\">\n",
       "  <thead>\n",
       "    <tr style=\"text-align: right;\">\n",
       "      <th></th>\n",
       "      <th>budget</th>\n",
       "      <th>id</th>\n",
       "      <th>original_language</th>\n",
       "      <th>overview</th>\n",
       "      <th>popularity</th>\n",
       "      <th>release_date</th>\n",
       "      <th>revenue</th>\n",
       "      <th>runtime</th>\n",
       "      <th>status</th>\n",
       "      <th>tagline</th>\n",
       "      <th>...</th>\n",
       "      <th>genres_id</th>\n",
       "      <th>production_companies_id</th>\n",
       "      <th>production_countries_iso_3166_1</th>\n",
       "      <th>spoken_language_iso_639_1</th>\n",
       "      <th>cast</th>\n",
       "      <th>director</th>\n",
       "      <th>release_year</th>\n",
       "      <th>release_month</th>\n",
       "      <th>release_day</th>\n",
       "      <th>return</th>\n",
       "    </tr>\n",
       "  </thead>\n",
       "  <tbody>\n",
       "    <tr>\n",
       "      <th>0</th>\n",
       "      <td>30000000</td>\n",
       "      <td>862</td>\n",
       "      <td>en</td>\n",
       "      <td>Led by Woody, Andy's toys live happily in his ...</td>\n",
       "      <td>21.946943</td>\n",
       "      <td>1995-10-30</td>\n",
       "      <td>373554033.0</td>\n",
       "      <td>81.0</td>\n",
       "      <td>Released</td>\n",
       "      <td>NaN</td>\n",
       "      <td>...</td>\n",
       "      <td>[16, 35, 10751]</td>\n",
       "      <td>[3]</td>\n",
       "      <td>['US']</td>\n",
       "      <td>['en']</td>\n",
       "      <td>['Tom Hanks', 'Tim Allen', 'Don Rickles', 'Jim...</td>\n",
       "      <td>John Lasseter</td>\n",
       "      <td>1995</td>\n",
       "      <td>10</td>\n",
       "      <td>30</td>\n",
       "      <td>12.451801</td>\n",
       "    </tr>\n",
       "    <tr>\n",
       "      <th>1</th>\n",
       "      <td>65000000</td>\n",
       "      <td>8844</td>\n",
       "      <td>en</td>\n",
       "      <td>When siblings Judy and Peter discover an encha...</td>\n",
       "      <td>17.015539</td>\n",
       "      <td>1995-12-15</td>\n",
       "      <td>262797249.0</td>\n",
       "      <td>104.0</td>\n",
       "      <td>Released</td>\n",
       "      <td>Roll the dice and unleash the excitement!</td>\n",
       "      <td>...</td>\n",
       "      <td>[12, 14, 10751]</td>\n",
       "      <td>[559, 2550, 10201]</td>\n",
       "      <td>['US']</td>\n",
       "      <td>['en', 'fr']</td>\n",
       "      <td>['Robin Williams', 'Jonathan Hyde', 'Kirsten D...</td>\n",
       "      <td>Joe Johnston</td>\n",
       "      <td>1995</td>\n",
       "      <td>12</td>\n",
       "      <td>15</td>\n",
       "      <td>4.043035</td>\n",
       "    </tr>\n",
       "    <tr>\n",
       "      <th>2</th>\n",
       "      <td>0</td>\n",
       "      <td>15602</td>\n",
       "      <td>en</td>\n",
       "      <td>A family wedding reignites the ancient feud be...</td>\n",
       "      <td>11.712900</td>\n",
       "      <td>1995-12-22</td>\n",
       "      <td>0.0</td>\n",
       "      <td>101.0</td>\n",
       "      <td>Released</td>\n",
       "      <td>Still Yelling. Still Fighting. Still Ready for...</td>\n",
       "      <td>...</td>\n",
       "      <td>[10749, 35]</td>\n",
       "      <td>[6194, 19464]</td>\n",
       "      <td>['US']</td>\n",
       "      <td>['en']</td>\n",
       "      <td>['Walter Matthau', 'Jack Lemmon', 'Ann-Margret...</td>\n",
       "      <td>Howard Deutch</td>\n",
       "      <td>1995</td>\n",
       "      <td>12</td>\n",
       "      <td>22</td>\n",
       "      <td>0.000000</td>\n",
       "    </tr>\n",
       "    <tr>\n",
       "      <th>3</th>\n",
       "      <td>16000000</td>\n",
       "      <td>31357</td>\n",
       "      <td>en</td>\n",
       "      <td>Cheated on, mistreated and stepped on, the wom...</td>\n",
       "      <td>3.859495</td>\n",
       "      <td>1995-12-22</td>\n",
       "      <td>81452156.0</td>\n",
       "      <td>127.0</td>\n",
       "      <td>Released</td>\n",
       "      <td>Friends are the people who let you be yourself...</td>\n",
       "      <td>...</td>\n",
       "      <td>[35, 18, 10749]</td>\n",
       "      <td>[306]</td>\n",
       "      <td>['US']</td>\n",
       "      <td>['en']</td>\n",
       "      <td>['Whitney Houston', 'Angela Bassett', 'Loretta...</td>\n",
       "      <td>Forest Whitaker</td>\n",
       "      <td>1995</td>\n",
       "      <td>12</td>\n",
       "      <td>22</td>\n",
       "      <td>5.090760</td>\n",
       "    </tr>\n",
       "    <tr>\n",
       "      <th>4</th>\n",
       "      <td>0</td>\n",
       "      <td>11862</td>\n",
       "      <td>en</td>\n",
       "      <td>Just when George Banks has recovered from his ...</td>\n",
       "      <td>8.387519</td>\n",
       "      <td>1995-02-10</td>\n",
       "      <td>76578911.0</td>\n",
       "      <td>106.0</td>\n",
       "      <td>Released</td>\n",
       "      <td>Just When His World Is Back To Normal... He's ...</td>\n",
       "      <td>...</td>\n",
       "      <td>[35]</td>\n",
       "      <td>[5842, 9195]</td>\n",
       "      <td>['US']</td>\n",
       "      <td>['en']</td>\n",
       "      <td>['Steve Martin', 'Diane Keaton', 'Martin Short...</td>\n",
       "      <td>Charles Shyer</td>\n",
       "      <td>1995</td>\n",
       "      <td>2</td>\n",
       "      <td>10</td>\n",
       "      <td>0.000000</td>\n",
       "    </tr>\n",
       "  </tbody>\n",
       "</table>\n",
       "<p>5 rows × 24 columns</p>\n",
       "</div>"
      ],
      "text/plain": [
       "     budget     id original_language  \\\n",
       "0  30000000    862                en   \n",
       "1  65000000   8844                en   \n",
       "2         0  15602                en   \n",
       "3  16000000  31357                en   \n",
       "4         0  11862                en   \n",
       "\n",
       "                                            overview  popularity release_date  \\\n",
       "0  Led by Woody, Andy's toys live happily in his ...   21.946943   1995-10-30   \n",
       "1  When siblings Judy and Peter discover an encha...   17.015539   1995-12-15   \n",
       "2  A family wedding reignites the ancient feud be...   11.712900   1995-12-22   \n",
       "3  Cheated on, mistreated and stepped on, the wom...    3.859495   1995-12-22   \n",
       "4  Just when George Banks has recovered from his ...    8.387519   1995-02-10   \n",
       "\n",
       "       revenue  runtime    status  \\\n",
       "0  373554033.0     81.0  Released   \n",
       "1  262797249.0    104.0  Released   \n",
       "2          0.0    101.0  Released   \n",
       "3   81452156.0    127.0  Released   \n",
       "4   76578911.0    106.0  Released   \n",
       "\n",
       "                                             tagline  ...        genres_id  \\\n",
       "0                                                NaN  ...  [16, 35, 10751]   \n",
       "1          Roll the dice and unleash the excitement!  ...  [12, 14, 10751]   \n",
       "2  Still Yelling. Still Fighting. Still Ready for...  ...      [10749, 35]   \n",
       "3  Friends are the people who let you be yourself...  ...  [35, 18, 10749]   \n",
       "4  Just When His World Is Back To Normal... He's ...  ...             [35]   \n",
       "\n",
       "   production_companies_id  production_countries_iso_3166_1  \\\n",
       "0                      [3]                           ['US']   \n",
       "1       [559, 2550, 10201]                           ['US']   \n",
       "2            [6194, 19464]                           ['US']   \n",
       "3                    [306]                           ['US']   \n",
       "4             [5842, 9195]                           ['US']   \n",
       "\n",
       "   spoken_language_iso_639_1  \\\n",
       "0                     ['en']   \n",
       "1               ['en', 'fr']   \n",
       "2                     ['en']   \n",
       "3                     ['en']   \n",
       "4                     ['en']   \n",
       "\n",
       "                                                cast         director  \\\n",
       "0  ['Tom Hanks', 'Tim Allen', 'Don Rickles', 'Jim...    John Lasseter   \n",
       "1  ['Robin Williams', 'Jonathan Hyde', 'Kirsten D...     Joe Johnston   \n",
       "2  ['Walter Matthau', 'Jack Lemmon', 'Ann-Margret...    Howard Deutch   \n",
       "3  ['Whitney Houston', 'Angela Bassett', 'Loretta...  Forest Whitaker   \n",
       "4  ['Steve Martin', 'Diane Keaton', 'Martin Short...    Charles Shyer   \n",
       "\n",
       "  release_year release_month release_day     return  \n",
       "0         1995            10          30  12.451801  \n",
       "1         1995            12          15   4.043035  \n",
       "2         1995            12          22   0.000000  \n",
       "3         1995            12          22   5.090760  \n",
       "4         1995             2          10   0.000000  \n",
       "\n",
       "[5 rows x 24 columns]"
      ]
     },
     "execution_count": 3,
     "metadata": {},
     "output_type": "execute_result"
    }
   ],
   "source": [
    "movies_df.head()"
   ]
  },
  {
   "cell_type": "code",
   "execution_count": 4,
   "metadata": {},
   "outputs": [],
   "source": [
    "movies_df = movies_df[[\"title\",\n",
    "\"genres_id\",\n",
    "\"cast\",\n",
    "\"director\",\n",
    "\"overview\"]] # columnas que vamos a usar para el modelo"
   ]
  },
  {
   "cell_type": "code",
   "execution_count": 5,
   "metadata": {},
   "outputs": [
    {
     "name": "stdout",
     "output_type": "stream",
     "text": [
      "<class 'pandas.core.series.Series'>\n",
      "RangeIndex: 45452 entries, 0 to 45451\n",
      "Series name: genres_id\n",
      "Non-Null Count  Dtype \n",
      "--------------  ----- \n",
      "43067 non-null  object\n",
      "dtypes: object(1)\n",
      "memory usage: 355.2+ KB\n"
     ]
    },
    {
     "data": {
      "text/plain": [
       "(None, (45452, 5))"
      ]
     },
     "execution_count": 5,
     "metadata": {},
     "output_type": "execute_result"
    }
   ],
   "source": [
    "movies_df['genres_id'].info(), movies_df.shape"
   ]
  },
  {
   "cell_type": "code",
   "execution_count": 6,
   "metadata": {},
   "outputs": [
    {
     "data": {
      "text/plain": [
       "0        16 35 10751\n",
       "1        12 14 10751\n",
       "2           10749 35\n",
       "3        35 18 10749\n",
       "4                 35\n",
       "            ...     \n",
       "45447    18 28 10749\n",
       "45448             18\n",
       "45449       28 18 53\n",
       "45450               \n",
       "45451               \n",
       "Name: genres_id, Length: 45452, dtype: object"
      ]
     },
     "execution_count": 6,
     "metadata": {},
     "output_type": "execute_result"
    }
   ],
   "source": [
    "# procesamiento de genres_id\n",
    "\n",
    "movies_df_ = movies_df.copy()\n",
    "\n",
    "movies_df_['genres_id'] = movies_df_['genres_id'].fillna('[]')\n",
    "movies_df_['genres_id'] = movies_df_['genres_id'].apply(lambda x: eval(x))\n",
    "movies_df_['genres_id'] = movies_df_['genres_id'].apply(lambda x: [f\"{i}\" for i in x])\n",
    "movies_df_['genres_id'] = movies_df_['genres_id'].apply(lambda x: ' '.join(x))\n",
    "movies_df_['genres_id']"
   ]
  },
  {
   "cell_type": "code",
   "execution_count": 7,
   "metadata": {},
   "outputs": [
    {
     "data": {
      "text/plain": [
       "0        TomHanks TimAllen DonRickles JimVarney Wallace...\n",
       "1        RobinWilliams JonathanHyde KirstenDunst Bradle...\n",
       "2        WalterMatthau JackLemmon Ann-Margret SophiaLor...\n",
       "3        WhitneyHouston AngelaBassett LorettaDevine Lel...\n",
       "4        SteveMartin DianeKeaton MartinShort KimberlyWi...\n",
       "                               ...                        \n",
       "45447    PatrickBergin UmaThurman DavidMorrissey Jürgen...\n",
       "45448    AngelAquino PerryDizon HazelOrencio JoelTorre ...\n",
       "45449    ErikaEleniak AdamBaldwin JulieduPage JamesRema...\n",
       "45450    IwanMosschuchin NathalieLissenko PavelPavlov A...\n",
       "45451                                                     \n",
       "Name: cast, Length: 45452, dtype: object"
      ]
     },
     "execution_count": 7,
     "metadata": {},
     "output_type": "execute_result"
    }
   ],
   "source": [
    "movies_df_['cast'] = movies_df_['cast'].fillna('[]')\n",
    "movies_df_['cast'] = movies_df_['cast'].apply(lambda x: eval(x))\n",
    "movies_df_['cast'] = movies_df_['cast'].apply(lambda x: ' '.join([i.replace(\" \", \"\") for i in x]))\n",
    "movies_df_['cast']"
   ]
  },
  {
   "cell_type": "code",
   "execution_count": 8,
   "metadata": {},
   "outputs": [
    {
     "data": {
      "text/plain": [
       "0           JohnLasseter\n",
       "1            JoeJohnston\n",
       "2           HowardDeutch\n",
       "3         ForestWhitaker\n",
       "4           CharlesShyer\n",
       "              ...       \n",
       "45447          JohnIrvin\n",
       "45448            LavDiaz\n",
       "45449       MarkL.Lester\n",
       "45450    YakovProtazanov\n",
       "45451       DaisyAsquith\n",
       "Name: director, Length: 45452, dtype: object"
      ]
     },
     "execution_count": 8,
     "metadata": {},
     "output_type": "execute_result"
    }
   ],
   "source": [
    "movies_df_['director'] = movies_df_['director'].fillna(' ')\n",
    "movies_df_['director'] = movies_df_['director'].apply(lambda x: x.replace(\" \", \"\"))\n",
    "movies_df_['director']"
   ]
  },
  {
   "cell_type": "code",
   "execution_count": 9,
   "metadata": {},
   "outputs": [
    {
     "data": {
      "text/html": [
       "<div>\n",
       "<style scoped>\n",
       "    .dataframe tbody tr th:only-of-type {\n",
       "        vertical-align: middle;\n",
       "    }\n",
       "\n",
       "    .dataframe tbody tr th {\n",
       "        vertical-align: top;\n",
       "    }\n",
       "\n",
       "    .dataframe thead th {\n",
       "        text-align: right;\n",
       "    }\n",
       "</style>\n",
       "<table border=\"1\" class=\"dataframe\">\n",
       "  <thead>\n",
       "    <tr style=\"text-align: right;\">\n",
       "      <th></th>\n",
       "      <th>title</th>\n",
       "      <th>genres_id</th>\n",
       "      <th>cast</th>\n",
       "      <th>director</th>\n",
       "      <th>overview</th>\n",
       "    </tr>\n",
       "  </thead>\n",
       "  <tbody>\n",
       "    <tr>\n",
       "      <th>0</th>\n",
       "      <td>Toy Story</td>\n",
       "      <td>16 35 10751</td>\n",
       "      <td>TomHanks TimAllen DonRickles JimVarney Wallace...</td>\n",
       "      <td>JohnLasseter</td>\n",
       "      <td>Led by Woody, Andy's toys live happily in his ...</td>\n",
       "    </tr>\n",
       "    <tr>\n",
       "      <th>1</th>\n",
       "      <td>Jumanji</td>\n",
       "      <td>12 14 10751</td>\n",
       "      <td>RobinWilliams JonathanHyde KirstenDunst Bradle...</td>\n",
       "      <td>JoeJohnston</td>\n",
       "      <td>When siblings Judy and Peter discover an encha...</td>\n",
       "    </tr>\n",
       "    <tr>\n",
       "      <th>2</th>\n",
       "      <td>Grumpier Old Men</td>\n",
       "      <td>10749 35</td>\n",
       "      <td>WalterMatthau JackLemmon Ann-Margret SophiaLor...</td>\n",
       "      <td>HowardDeutch</td>\n",
       "      <td>A family wedding reignites the ancient feud be...</td>\n",
       "    </tr>\n",
       "    <tr>\n",
       "      <th>3</th>\n",
       "      <td>Waiting to Exhale</td>\n",
       "      <td>35 18 10749</td>\n",
       "      <td>WhitneyHouston AngelaBassett LorettaDevine Lel...</td>\n",
       "      <td>ForestWhitaker</td>\n",
       "      <td>Cheated on, mistreated and stepped on, the wom...</td>\n",
       "    </tr>\n",
       "    <tr>\n",
       "      <th>4</th>\n",
       "      <td>Father of the Bride Part II</td>\n",
       "      <td>35</td>\n",
       "      <td>SteveMartin DianeKeaton MartinShort KimberlyWi...</td>\n",
       "      <td>CharlesShyer</td>\n",
       "      <td>Just when George Banks has recovered from his ...</td>\n",
       "    </tr>\n",
       "    <tr>\n",
       "      <th>...</th>\n",
       "      <td>...</td>\n",
       "      <td>...</td>\n",
       "      <td>...</td>\n",
       "      <td>...</td>\n",
       "      <td>...</td>\n",
       "    </tr>\n",
       "    <tr>\n",
       "      <th>45447</th>\n",
       "      <td>Robin Hood</td>\n",
       "      <td>18 28 10749</td>\n",
       "      <td>PatrickBergin UmaThurman DavidMorrissey Jürgen...</td>\n",
       "      <td>JohnIrvin</td>\n",
       "      <td>Yet another version of the classic epic, with ...</td>\n",
       "    </tr>\n",
       "    <tr>\n",
       "      <th>45448</th>\n",
       "      <td>Century of Birthing</td>\n",
       "      <td>18</td>\n",
       "      <td>AngelAquino PerryDizon HazelOrencio JoelTorre ...</td>\n",
       "      <td>LavDiaz</td>\n",
       "      <td>An artist struggles to finish his work while a...</td>\n",
       "    </tr>\n",
       "    <tr>\n",
       "      <th>45449</th>\n",
       "      <td>Betrayal</td>\n",
       "      <td>28 18 53</td>\n",
       "      <td>ErikaEleniak AdamBaldwin JulieduPage JamesRema...</td>\n",
       "      <td>MarkL.Lester</td>\n",
       "      <td>When one of her hits goes wrong, a professiona...</td>\n",
       "    </tr>\n",
       "    <tr>\n",
       "      <th>45450</th>\n",
       "      <td>Satan Triumphant</td>\n",
       "      <td></td>\n",
       "      <td>IwanMosschuchin NathalieLissenko PavelPavlov A...</td>\n",
       "      <td>YakovProtazanov</td>\n",
       "      <td>In a small town live two brothers, one a minis...</td>\n",
       "    </tr>\n",
       "    <tr>\n",
       "      <th>45451</th>\n",
       "      <td>Queerama</td>\n",
       "      <td></td>\n",
       "      <td></td>\n",
       "      <td>DaisyAsquith</td>\n",
       "      <td>50 years after decriminalisation of homosexual...</td>\n",
       "    </tr>\n",
       "  </tbody>\n",
       "</table>\n",
       "<p>45452 rows × 5 columns</p>\n",
       "</div>"
      ],
      "text/plain": [
       "                             title    genres_id  \\\n",
       "0                        Toy Story  16 35 10751   \n",
       "1                          Jumanji  12 14 10751   \n",
       "2                 Grumpier Old Men     10749 35   \n",
       "3                Waiting to Exhale  35 18 10749   \n",
       "4      Father of the Bride Part II           35   \n",
       "...                            ...          ...   \n",
       "45447                   Robin Hood  18 28 10749   \n",
       "45448          Century of Birthing           18   \n",
       "45449                     Betrayal     28 18 53   \n",
       "45450             Satan Triumphant                \n",
       "45451                     Queerama                \n",
       "\n",
       "                                                    cast         director  \\\n",
       "0      TomHanks TimAllen DonRickles JimVarney Wallace...     JohnLasseter   \n",
       "1      RobinWilliams JonathanHyde KirstenDunst Bradle...      JoeJohnston   \n",
       "2      WalterMatthau JackLemmon Ann-Margret SophiaLor...     HowardDeutch   \n",
       "3      WhitneyHouston AngelaBassett LorettaDevine Lel...   ForestWhitaker   \n",
       "4      SteveMartin DianeKeaton MartinShort KimberlyWi...     CharlesShyer   \n",
       "...                                                  ...              ...   \n",
       "45447  PatrickBergin UmaThurman DavidMorrissey Jürgen...        JohnIrvin   \n",
       "45448  AngelAquino PerryDizon HazelOrencio JoelTorre ...          LavDiaz   \n",
       "45449  ErikaEleniak AdamBaldwin JulieduPage JamesRema...     MarkL.Lester   \n",
       "45450  IwanMosschuchin NathalieLissenko PavelPavlov A...  YakovProtazanov   \n",
       "45451                                                        DaisyAsquith   \n",
       "\n",
       "                                                overview  \n",
       "0      Led by Woody, Andy's toys live happily in his ...  \n",
       "1      When siblings Judy and Peter discover an encha...  \n",
       "2      A family wedding reignites the ancient feud be...  \n",
       "3      Cheated on, mistreated and stepped on, the wom...  \n",
       "4      Just when George Banks has recovered from his ...  \n",
       "...                                                  ...  \n",
       "45447  Yet another version of the classic epic, with ...  \n",
       "45448  An artist struggles to finish his work while a...  \n",
       "45449  When one of her hits goes wrong, a professiona...  \n",
       "45450  In a small town live two brothers, one a minis...  \n",
       "45451  50 years after decriminalisation of homosexual...  \n",
       "\n",
       "[45452 rows x 5 columns]"
      ]
     },
     "execution_count": 9,
     "metadata": {},
     "output_type": "execute_result"
    }
   ],
   "source": [
    "movies_df_"
   ]
  },
  {
   "cell_type": "code",
   "execution_count": 10,
   "metadata": {},
   "outputs": [
    {
     "data": {
      "text/plain": [
       "0        Toy Story 16 35 10751 TomHanks TimAllen DonRic...\n",
       "1        Jumanji 12 14 10751 RobinWilliams JonathanHyde...\n",
       "2        Grumpier Old Men 10749 35 WalterMatthau JackLe...\n",
       "3        Waiting to Exhale 35 18 10749 WhitneyHouston A...\n",
       "4        Father of the Bride Part II 35 SteveMartin Dia...\n",
       "                               ...                        \n",
       "45447    Robin Hood 18 28 10749 PatrickBergin UmaThurma...\n",
       "45448    Century of Birthing 18 AngelAquino PerryDizon ...\n",
       "45449    Betrayal 28 18 53 ErikaEleniak AdamBaldwin Jul...\n",
       "45450    Satan Triumphant  IwanMosschuchin NathalieLiss...\n",
       "45451    Queerama   DaisyAsquith 50 years after decrimi...\n",
       "Name: words, Length: 45452, dtype: object"
      ]
     },
     "execution_count": 10,
     "metadata": {},
     "output_type": "execute_result"
    }
   ],
   "source": [
    "# creamos una columna con todas las palabras claves\n",
    "\n",
    "movies_df_['words'] = movies_df_['title'] + ' ' + movies_df_['genres_id'] + ' ' + movies_df_['cast'] + ' ' + movies_df_['director'] + ' ' + movies_df_['overview']\n",
    "\n",
    "movies_df_['words']"
   ]
  },
  {
   "cell_type": "code",
   "execution_count": 11,
   "metadata": {},
   "outputs": [],
   "source": [
    "movies_df_ = movies_df_[['words','title']]"
   ]
  },
  {
   "cell_type": "code",
   "execution_count": 12,
   "metadata": {},
   "outputs": [
    {
     "data": {
      "text/plain": [
       "words    941\n",
       "title      0\n",
       "dtype: int64"
      ]
     },
     "execution_count": 12,
     "metadata": {},
     "output_type": "execute_result"
    }
   ],
   "source": [
    "movies_df_.isnull().sum() # filas con nulos"
   ]
  },
  {
   "cell_type": "code",
   "execution_count": 13,
   "metadata": {},
   "outputs": [
    {
     "data": {
      "text/plain": [
       "(45452, 2)"
      ]
     },
     "execution_count": 13,
     "metadata": {},
     "output_type": "execute_result"
    }
   ],
   "source": [
    "movies_df_.shape"
   ]
  },
  {
   "cell_type": "code",
   "execution_count": 14,
   "metadata": {},
   "outputs": [],
   "source": [
    "movies_df_ = movies_df_.dropna()"
   ]
  },
  {
   "cell_type": "code",
   "execution_count": 15,
   "metadata": {},
   "outputs": [
    {
     "data": {
      "text/plain": [
       "(44511, 2)"
      ]
     },
     "execution_count": 15,
     "metadata": {},
     "output_type": "execute_result"
    }
   ],
   "source": [
    "movies_df_.shape\n"
   ]
  },
  {
   "cell_type": "code",
   "execution_count": 16,
   "metadata": {},
   "outputs": [
    {
     "data": {
      "text/plain": [
       "(44406, 2)"
      ]
     },
     "execution_count": 16,
     "metadata": {},
     "output_type": "execute_result"
    }
   ],
   "source": [
    "movies_df_.drop_duplicates(inplace=True)\n",
    "movies_df_.shape"
   ]
  },
  {
   "cell_type": "code",
   "execution_count": 17,
   "metadata": {},
   "outputs": [],
   "source": [
    "movies_df_ = movies_df_.reset_index(drop=True)"
   ]
  },
  {
   "cell_type": "code",
   "execution_count": 18,
   "metadata": {},
   "outputs": [],
   "source": [
    "from sklearn.feature_extraction.text import TfidfVectorizer\n",
    "\n",
    "# expresa cuán relevante es una palabra para un documento en una colección\n",
    "\n",
    "tfidf = TfidfVectorizer(max_features=5000)"
   ]
  },
  {
   "cell_type": "code",
   "execution_count": 19,
   "metadata": {},
   "outputs": [
    {
     "data": {
      "text/plain": [
       "array(['000', '10', '100', ..., 'zombies', 'zone', 'zoo'], dtype=object)"
      ]
     },
     "execution_count": 19,
     "metadata": {},
     "output_type": "execute_result"
    }
   ],
   "source": [
    "vectorized = tfidf.fit_transform(movies_df_['words'].values)\n",
    "tfidf.get_feature_names_out()"
   ]
  },
  {
   "cell_type": "code",
   "execution_count": 20,
   "metadata": {},
   "outputs": [],
   "source": [
    "vectorized_df = pd.DataFrame(vectorized.toarray())"
   ]
  },
  {
   "cell_type": "code",
   "execution_count": 21,
   "metadata": {},
   "outputs": [],
   "source": [
    "from sklearn.decomposition import TruncatedSVD"
   ]
  },
  {
   "cell_type": "code",
   "execution_count": 22,
   "metadata": {},
   "outputs": [],
   "source": [
    "svd = TruncatedSVD(n_components=2500)\n",
    "\n",
    "reduced_data = svd.fit_transform(vectorized_df)\n"
   ]
  },
  {
   "cell_type": "code",
   "execution_count": 23,
   "metadata": {},
   "outputs": [
    {
     "data": {
      "text/plain": [
       "array([[ 0.15459621, -0.01834458,  0.03426772, ...,  0.00154824,\n",
       "        -0.00950287, -0.01303584],\n",
       "       [ 0.2072601 , -0.02336851, -0.00883157, ..., -0.00763269,\n",
       "         0.00638396,  0.00240848],\n",
       "       [ 0.1879923 ,  0.06535768, -0.06619208, ..., -0.00305714,\n",
       "        -0.00336752,  0.01554276],\n",
       "       ...,\n",
       "       [ 0.13409526,  0.06877064, -0.02973634, ..., -0.00336646,\n",
       "        -0.00939659, -0.01051487],\n",
       "       [ 0.32667004, -0.07541135,  0.02432461, ...,  0.01482679,\n",
       "         0.00574146, -0.00504335],\n",
       "       [ 0.26854137, -0.14490832, -0.078801  , ...,  0.00519116,\n",
       "         0.01483031,  0.02402411]])"
      ]
     },
     "execution_count": 23,
     "metadata": {},
     "output_type": "execute_result"
    }
   ],
   "source": [
    "reduced_data"
   ]
  },
  {
   "cell_type": "code",
   "execution_count": 24,
   "metadata": {},
   "outputs": [
    {
     "data": {
      "text/plain": [
       "0.8010782031361035"
      ]
     },
     "execution_count": 24,
     "metadata": {},
     "output_type": "execute_result"
    }
   ],
   "source": [
    "svd.explained_variance_ratio_.cumsum()[-1] #varianza explicada"
   ]
  },
  {
   "cell_type": "code",
   "execution_count": 25,
   "metadata": {},
   "outputs": [
    {
     "data": {
      "text/plain": [
       "array([[1.        , 0.05892453, 0.02643665, ..., 0.01367535, 0.06077601,\n",
       "        0.03857962],\n",
       "       [0.05892453, 1.        , 0.07566   , ..., 0.01482834, 0.09549771,\n",
       "        0.06418057],\n",
       "       [0.02643665, 0.07566   , 1.        , ..., 0.01909538, 0.0883923 ,\n",
       "        0.08403706],\n",
       "       ...,\n",
       "       [0.01367535, 0.01482834, 0.01909538, ..., 1.        , 0.03211032,\n",
       "        0.02642509],\n",
       "       [0.06077601, 0.09549771, 0.0883923 , ..., 0.03211032, 1.        ,\n",
       "        0.11909876],\n",
       "       [0.03857962, 0.06418057, 0.08403706, ..., 0.02642509, 0.11909876,\n",
       "        1.        ]])"
      ]
     },
     "execution_count": 25,
     "metadata": {},
     "output_type": "execute_result"
    }
   ],
   "source": [
    "from sklearn.metrics.pairwise import cosine_similarity\n",
    "\n",
    "similarity = cosine_similarity(reduced_data)\n",
    "similarity"
   ]
  },
  {
   "cell_type": "code",
   "execution_count": 26,
   "metadata": {},
   "outputs": [
    {
     "data": {
      "text/plain": [
       "array([1.        , 0.05892453, 0.02643665, ..., 0.01367535, 0.06077601,\n",
       "       0.03857962])"
      ]
     },
     "execution_count": 26,
     "metadata": {},
     "output_type": "execute_result"
    }
   ],
   "source": [
    "similarity[0]"
   ]
  },
  {
   "cell_type": "code",
   "execution_count": 27,
   "metadata": {},
   "outputs": [
    {
     "data": {
      "text/plain": [
       "(44406, 44406)"
      ]
     },
     "execution_count": 27,
     "metadata": {},
     "output_type": "execute_result"
    }
   ],
   "source": [
    "similarity.shape"
   ]
  },
  {
   "cell_type": "code",
   "execution_count": 28,
   "metadata": {},
   "outputs": [
    {
     "data": {
      "text/plain": [
       "(44406, 2)"
      ]
     },
     "execution_count": 28,
     "metadata": {},
     "output_type": "execute_result"
    }
   ],
   "source": [
    "movies_df_.shape"
   ]
  },
  {
   "cell_type": "code",
   "execution_count": 29,
   "metadata": {},
   "outputs": [
    {
     "data": {
      "text/html": [
       "<div>\n",
       "<style scoped>\n",
       "    .dataframe tbody tr th:only-of-type {\n",
       "        vertical-align: middle;\n",
       "    }\n",
       "\n",
       "    .dataframe tbody tr th {\n",
       "        vertical-align: top;\n",
       "    }\n",
       "\n",
       "    .dataframe thead th {\n",
       "        text-align: right;\n",
       "    }\n",
       "</style>\n",
       "<table border=\"1\" class=\"dataframe\">\n",
       "  <thead>\n",
       "    <tr style=\"text-align: right;\">\n",
       "      <th></th>\n",
       "      <th>words</th>\n",
       "      <th>title</th>\n",
       "    </tr>\n",
       "  </thead>\n",
       "  <tbody>\n",
       "    <tr>\n",
       "      <th>0</th>\n",
       "      <td>Toy Story 16 35 10751 TomHanks TimAllen DonRic...</td>\n",
       "      <td>Toy Story</td>\n",
       "    </tr>\n",
       "    <tr>\n",
       "      <th>1</th>\n",
       "      <td>Jumanji 12 14 10751 RobinWilliams JonathanHyde...</td>\n",
       "      <td>Jumanji</td>\n",
       "    </tr>\n",
       "    <tr>\n",
       "      <th>2</th>\n",
       "      <td>Grumpier Old Men 10749 35 WalterMatthau JackLe...</td>\n",
       "      <td>Grumpier Old Men</td>\n",
       "    </tr>\n",
       "    <tr>\n",
       "      <th>3</th>\n",
       "      <td>Waiting to Exhale 35 18 10749 WhitneyHouston A...</td>\n",
       "      <td>Waiting to Exhale</td>\n",
       "    </tr>\n",
       "    <tr>\n",
       "      <th>4</th>\n",
       "      <td>Father of the Bride Part II 35 SteveMartin Dia...</td>\n",
       "      <td>Father of the Bride Part II</td>\n",
       "    </tr>\n",
       "    <tr>\n",
       "      <th>...</th>\n",
       "      <td>...</td>\n",
       "      <td>...</td>\n",
       "    </tr>\n",
       "    <tr>\n",
       "      <th>44401</th>\n",
       "      <td>Robin Hood 18 28 10749 PatrickBergin UmaThurma...</td>\n",
       "      <td>Robin Hood</td>\n",
       "    </tr>\n",
       "    <tr>\n",
       "      <th>44402</th>\n",
       "      <td>Century of Birthing 18 AngelAquino PerryDizon ...</td>\n",
       "      <td>Century of Birthing</td>\n",
       "    </tr>\n",
       "    <tr>\n",
       "      <th>44403</th>\n",
       "      <td>Betrayal 28 18 53 ErikaEleniak AdamBaldwin Jul...</td>\n",
       "      <td>Betrayal</td>\n",
       "    </tr>\n",
       "    <tr>\n",
       "      <th>44404</th>\n",
       "      <td>Satan Triumphant  IwanMosschuchin NathalieLiss...</td>\n",
       "      <td>Satan Triumphant</td>\n",
       "    </tr>\n",
       "    <tr>\n",
       "      <th>44405</th>\n",
       "      <td>Queerama   DaisyAsquith 50 years after decrimi...</td>\n",
       "      <td>Queerama</td>\n",
       "    </tr>\n",
       "  </tbody>\n",
       "</table>\n",
       "<p>44406 rows × 2 columns</p>\n",
       "</div>"
      ],
      "text/plain": [
       "                                                   words  \\\n",
       "0      Toy Story 16 35 10751 TomHanks TimAllen DonRic...   \n",
       "1      Jumanji 12 14 10751 RobinWilliams JonathanHyde...   \n",
       "2      Grumpier Old Men 10749 35 WalterMatthau JackLe...   \n",
       "3      Waiting to Exhale 35 18 10749 WhitneyHouston A...   \n",
       "4      Father of the Bride Part II 35 SteveMartin Dia...   \n",
       "...                                                  ...   \n",
       "44401  Robin Hood 18 28 10749 PatrickBergin UmaThurma...   \n",
       "44402  Century of Birthing 18 AngelAquino PerryDizon ...   \n",
       "44403  Betrayal 28 18 53 ErikaEleniak AdamBaldwin Jul...   \n",
       "44404  Satan Triumphant  IwanMosschuchin NathalieLiss...   \n",
       "44405  Queerama   DaisyAsquith 50 years after decrimi...   \n",
       "\n",
       "                             title  \n",
       "0                        Toy Story  \n",
       "1                          Jumanji  \n",
       "2                 Grumpier Old Men  \n",
       "3                Waiting to Exhale  \n",
       "4      Father of the Bride Part II  \n",
       "...                            ...  \n",
       "44401                   Robin Hood  \n",
       "44402          Century of Birthing  \n",
       "44403                     Betrayal  \n",
       "44404             Satan Triumphant  \n",
       "44405                     Queerama  \n",
       "\n",
       "[44406 rows x 2 columns]"
      ]
     },
     "execution_count": 29,
     "metadata": {},
     "output_type": "execute_result"
    }
   ],
   "source": [
    "movies_df_"
   ]
  },
  {
   "cell_type": "code",
   "execution_count": 30,
   "metadata": {},
   "outputs": [],
   "source": [
    "def recommendator(movie:str):\n",
    "    id = movies_df_[movies_df_['title'] == movie].index[0]\n",
    "    cos_distance = similarity[id]\n",
    "    movie_list = sorted(list(enumerate(cos_distance)), reverse=True, key=lambda x:x[1])[1:6]\n",
    "    high_scores = []\n",
    "    for id in movie_list:\n",
    "        high_scores.append(movies_df_.iloc[id[0]]['title'])\n",
    "    return high_scores"
   ]
  },
  {
   "cell_type": "code",
   "execution_count": 31,
   "metadata": {},
   "outputs": [],
   "source": [
    "titles = movies_df_['title']\n",
    "\n",
    "recommendations_df = pd.DataFrame(titles)\n",
    "\n",
    "recommendations = recommendations_df['title'].apply(lambda x: recommendator(x))\n",
    "\n",
    "recommendations_df[['rec1', 'rec2', 'rec3', 'rec4', 'rec5']] = pd.DataFrame(recommendations.tolist())"
   ]
  },
  {
   "cell_type": "code",
   "execution_count": 34,
   "metadata": {},
   "outputs": [
    {
     "data": {
      "text/html": [
       "<div>\n",
       "<style scoped>\n",
       "    .dataframe tbody tr th:only-of-type {\n",
       "        vertical-align: middle;\n",
       "    }\n",
       "\n",
       "    .dataframe tbody tr th {\n",
       "        vertical-align: top;\n",
       "    }\n",
       "\n",
       "    .dataframe thead th {\n",
       "        text-align: right;\n",
       "    }\n",
       "</style>\n",
       "<table border=\"1\" class=\"dataframe\">\n",
       "  <thead>\n",
       "    <tr style=\"text-align: right;\">\n",
       "      <th></th>\n",
       "      <th>title</th>\n",
       "      <th>rec1</th>\n",
       "      <th>rec2</th>\n",
       "      <th>rec3</th>\n",
       "      <th>rec4</th>\n",
       "      <th>rec5</th>\n",
       "    </tr>\n",
       "  </thead>\n",
       "  <tbody>\n",
       "    <tr>\n",
       "      <th>0</th>\n",
       "      <td>Toy Story</td>\n",
       "      <td>Toy Story 3</td>\n",
       "      <td>Toy Story 2</td>\n",
       "      <td>The Champ</td>\n",
       "      <td>Superstar: The Life and Times of Andy Warhol</td>\n",
       "      <td>The 40 Year Old Virgin</td>\n",
       "    </tr>\n",
       "    <tr>\n",
       "      <th>1</th>\n",
       "      <td>Jumanji</td>\n",
       "      <td>Liar Game: Reborn</td>\n",
       "      <td>Table No. 21</td>\n",
       "      <td>Brainscan</td>\n",
       "      <td>Word Wars</td>\n",
       "      <td>The Dark Angel</td>\n",
       "    </tr>\n",
       "    <tr>\n",
       "      <th>2</th>\n",
       "      <td>Grumpier Old Men</td>\n",
       "      <td>Grumpy Old Men</td>\n",
       "      <td>Max</td>\n",
       "      <td>Go Fish</td>\n",
       "      <td>Spoon</td>\n",
       "      <td>The Pack</td>\n",
       "    </tr>\n",
       "    <tr>\n",
       "      <th>3</th>\n",
       "      <td>Waiting to Exhale</td>\n",
       "      <td>Paraguayan Hammock</td>\n",
       "      <td>Robin and Marian</td>\n",
       "      <td>Waiting for Godot</td>\n",
       "      <td>Euridice BA 2037</td>\n",
       "      <td>Gods of the Plague</td>\n",
       "    </tr>\n",
       "    <tr>\n",
       "      <th>4</th>\n",
       "      <td>Father of the Bride Part II</td>\n",
       "      <td>Babbitt</td>\n",
       "      <td>VeggieTales: King George and the Ducky</td>\n",
       "      <td>Father of the Bride</td>\n",
       "      <td>Kuffs</td>\n",
       "      <td>I Start Counting</td>\n",
       "    </tr>\n",
       "  </tbody>\n",
       "</table>\n",
       "</div>"
      ],
      "text/plain": [
       "                         title                rec1  \\\n",
       "0                    Toy Story         Toy Story 3   \n",
       "1                      Jumanji   Liar Game: Reborn   \n",
       "2             Grumpier Old Men      Grumpy Old Men   \n",
       "3            Waiting to Exhale  Paraguayan Hammock   \n",
       "4  Father of the Bride Part II             Babbitt   \n",
       "\n",
       "                                     rec2                 rec3  \\\n",
       "0                             Toy Story 2            The Champ   \n",
       "1                            Table No. 21            Brainscan   \n",
       "2                                     Max              Go Fish   \n",
       "3                        Robin and Marian    Waiting for Godot   \n",
       "4  VeggieTales: King George and the Ducky  Father of the Bride   \n",
       "\n",
       "                                           rec4                    rec5  \n",
       "0  Superstar: The Life and Times of Andy Warhol  The 40 Year Old Virgin  \n",
       "1                                     Word Wars          The Dark Angel  \n",
       "2                                         Spoon                The Pack  \n",
       "3                              Euridice BA 2037      Gods of the Plague  \n",
       "4                                         Kuffs        I Start Counting  "
      ]
     },
     "execution_count": 34,
     "metadata": {},
     "output_type": "execute_result"
    }
   ],
   "source": [
    "recommendations_df.head()"
   ]
  },
  {
   "cell_type": "code",
   "execution_count": 35,
   "metadata": {},
   "outputs": [],
   "source": [
    "recommendations_df.to_csv('recommendations.csv',index=False)"
   ]
  }
 ],
 "metadata": {
  "kernelspec": {
   "display_name": "pi_mlops",
   "language": "python",
   "name": "python3"
  },
  "language_info": {
   "codemirror_mode": {
    "name": "ipython",
    "version": 3
   },
   "file_extension": ".py",
   "mimetype": "text/x-python",
   "name": "python",
   "nbconvert_exporter": "python",
   "pygments_lexer": "ipython3",
   "version": "3.11.3"
  },
  "orig_nbformat": 4
 },
 "nbformat": 4,
 "nbformat_minor": 2
}
